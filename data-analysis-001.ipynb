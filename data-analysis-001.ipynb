{
 "cells": [
  {
   "cell_type": "markdown",
   "id": "9435ae1b",
   "metadata": {
    "papermill": {
     "duration": 0.020559,
     "end_time": "2022-05-14T03:59:57.523465",
     "exception": false,
     "start_time": "2022-05-14T03:59:57.502906",
     "status": "completed"
    },
    "tags": []
   },
   "source": [
    "This is my first Kaggle notebook, Saman"
   ]
  },
  {
   "cell_type": "code",
   "execution_count": 1,
   "id": "cefbadca",
   "metadata": {
    "execution": {
     "iopub.execute_input": "2022-05-14T03:59:57.563061Z",
     "iopub.status.busy": "2022-05-14T03:59:57.562478Z",
     "iopub.status.idle": "2022-05-14T03:59:57.572630Z",
     "shell.execute_reply": "2022-05-14T03:59:57.571835Z"
    },
    "papermill": {
     "duration": 0.032827,
     "end_time": "2022-05-14T03:59:57.575102",
     "exception": false,
     "start_time": "2022-05-14T03:59:57.542275",
     "status": "completed"
    },
    "tags": []
   },
   "outputs": [],
   "source": [
    "import pandas  as pd"
   ]
  },
  {
   "cell_type": "code",
   "execution_count": 2,
   "id": "f0e044ec",
   "metadata": {
    "execution": {
     "iopub.execute_input": "2022-05-14T03:59:57.615190Z",
     "iopub.status.busy": "2022-05-14T03:59:57.614909Z",
     "iopub.status.idle": "2022-05-14T03:59:57.642952Z",
     "shell.execute_reply": "2022-05-14T03:59:57.642274Z"
    },
    "papermill": {
     "duration": 0.051238,
     "end_time": "2022-05-14T03:59:57.645308",
     "exception": false,
     "start_time": "2022-05-14T03:59:57.594070",
     "status": "completed"
    },
    "tags": []
   },
   "outputs": [],
   "source": [
    "df = pd.read_csv('../input/usa-cers-dataset/USA_cars_datasets.csv')"
   ]
  },
  {
   "cell_type": "code",
   "execution_count": 3,
   "id": "37937b3f",
   "metadata": {
    "execution": {
     "iopub.execute_input": "2022-05-14T03:59:57.684862Z",
     "iopub.status.busy": "2022-05-14T03:59:57.684311Z",
     "iopub.status.idle": "2022-05-14T03:59:57.707609Z",
     "shell.execute_reply": "2022-05-14T03:59:57.706933Z"
    },
    "papermill": {
     "duration": 0.04561,
     "end_time": "2022-05-14T03:59:57.710079",
     "exception": false,
     "start_time": "2022-05-14T03:59:57.664469",
     "status": "completed"
    },
    "tags": []
   },
   "outputs": [
    {
     "data": {
      "text/html": [
       "<div>\n",
       "<style scoped>\n",
       "    .dataframe tbody tr th:only-of-type {\n",
       "        vertical-align: middle;\n",
       "    }\n",
       "\n",
       "    .dataframe tbody tr th {\n",
       "        vertical-align: top;\n",
       "    }\n",
       "\n",
       "    .dataframe thead th {\n",
       "        text-align: right;\n",
       "    }\n",
       "</style>\n",
       "<table border=\"1\" class=\"dataframe\">\n",
       "  <thead>\n",
       "    <tr style=\"text-align: right;\">\n",
       "      <th></th>\n",
       "      <th>Unnamed: 0</th>\n",
       "      <th>price</th>\n",
       "      <th>brand</th>\n",
       "      <th>model</th>\n",
       "      <th>year</th>\n",
       "      <th>title_status</th>\n",
       "      <th>mileage</th>\n",
       "      <th>color</th>\n",
       "      <th>vin</th>\n",
       "      <th>lot</th>\n",
       "      <th>state</th>\n",
       "      <th>country</th>\n",
       "      <th>condition</th>\n",
       "    </tr>\n",
       "  </thead>\n",
       "  <tbody>\n",
       "    <tr>\n",
       "      <th>0</th>\n",
       "      <td>0</td>\n",
       "      <td>6300</td>\n",
       "      <td>toyota</td>\n",
       "      <td>cruiser</td>\n",
       "      <td>2008</td>\n",
       "      <td>clean vehicle</td>\n",
       "      <td>274117.0</td>\n",
       "      <td>black</td>\n",
       "      <td>jtezu11f88k007763</td>\n",
       "      <td>159348797</td>\n",
       "      <td>new jersey</td>\n",
       "      <td>usa</td>\n",
       "      <td>10 days left</td>\n",
       "    </tr>\n",
       "    <tr>\n",
       "      <th>1</th>\n",
       "      <td>1</td>\n",
       "      <td>2899</td>\n",
       "      <td>ford</td>\n",
       "      <td>se</td>\n",
       "      <td>2011</td>\n",
       "      <td>clean vehicle</td>\n",
       "      <td>190552.0</td>\n",
       "      <td>silver</td>\n",
       "      <td>2fmdk3gc4bbb02217</td>\n",
       "      <td>166951262</td>\n",
       "      <td>tennessee</td>\n",
       "      <td>usa</td>\n",
       "      <td>6 days left</td>\n",
       "    </tr>\n",
       "    <tr>\n",
       "      <th>2</th>\n",
       "      <td>2</td>\n",
       "      <td>5350</td>\n",
       "      <td>dodge</td>\n",
       "      <td>mpv</td>\n",
       "      <td>2018</td>\n",
       "      <td>clean vehicle</td>\n",
       "      <td>39590.0</td>\n",
       "      <td>silver</td>\n",
       "      <td>3c4pdcgg5jt346413</td>\n",
       "      <td>167655728</td>\n",
       "      <td>georgia</td>\n",
       "      <td>usa</td>\n",
       "      <td>2 days left</td>\n",
       "    </tr>\n",
       "    <tr>\n",
       "      <th>3</th>\n",
       "      <td>3</td>\n",
       "      <td>25000</td>\n",
       "      <td>ford</td>\n",
       "      <td>door</td>\n",
       "      <td>2014</td>\n",
       "      <td>clean vehicle</td>\n",
       "      <td>64146.0</td>\n",
       "      <td>blue</td>\n",
       "      <td>1ftfw1et4efc23745</td>\n",
       "      <td>167753855</td>\n",
       "      <td>virginia</td>\n",
       "      <td>usa</td>\n",
       "      <td>22 hours left</td>\n",
       "    </tr>\n",
       "    <tr>\n",
       "      <th>4</th>\n",
       "      <td>4</td>\n",
       "      <td>27700</td>\n",
       "      <td>chevrolet</td>\n",
       "      <td>1500</td>\n",
       "      <td>2018</td>\n",
       "      <td>clean vehicle</td>\n",
       "      <td>6654.0</td>\n",
       "      <td>red</td>\n",
       "      <td>3gcpcrec2jg473991</td>\n",
       "      <td>167763266</td>\n",
       "      <td>florida</td>\n",
       "      <td>usa</td>\n",
       "      <td>22 hours left</td>\n",
       "    </tr>\n",
       "  </tbody>\n",
       "</table>\n",
       "</div>"
      ],
      "text/plain": [
       "   Unnamed: 0  price      brand    model  year   title_status   mileage  \\\n",
       "0           0   6300     toyota  cruiser  2008  clean vehicle  274117.0   \n",
       "1           1   2899       ford       se  2011  clean vehicle  190552.0   \n",
       "2           2   5350      dodge      mpv  2018  clean vehicle   39590.0   \n",
       "3           3  25000       ford     door  2014  clean vehicle   64146.0   \n",
       "4           4  27700  chevrolet     1500  2018  clean vehicle    6654.0   \n",
       "\n",
       "    color                  vin        lot       state country      condition  \n",
       "0   black    jtezu11f88k007763  159348797  new jersey     usa   10 days left  \n",
       "1  silver    2fmdk3gc4bbb02217  166951262   tennessee     usa    6 days left  \n",
       "2  silver    3c4pdcgg5jt346413  167655728     georgia     usa    2 days left  \n",
       "3    blue    1ftfw1et4efc23745  167753855    virginia     usa  22 hours left  \n",
       "4     red    3gcpcrec2jg473991  167763266     florida     usa  22 hours left  "
      ]
     },
     "execution_count": 3,
     "metadata": {},
     "output_type": "execute_result"
    }
   ],
   "source": [
    "df.head()"
   ]
  },
  {
   "cell_type": "code",
   "execution_count": 4,
   "id": "7cb22df0",
   "metadata": {
    "execution": {
     "iopub.execute_input": "2022-05-14T03:59:57.751532Z",
     "iopub.status.busy": "2022-05-14T03:59:57.750968Z",
     "iopub.status.idle": "2022-05-14T03:59:57.766412Z",
     "shell.execute_reply": "2022-05-14T03:59:57.765795Z"
    },
    "papermill": {
     "duration": 0.038699,
     "end_time": "2022-05-14T03:59:57.768407",
     "exception": false,
     "start_time": "2022-05-14T03:59:57.729708",
     "status": "completed"
    },
    "tags": []
   },
   "outputs": [
    {
     "data": {
      "text/html": [
       "<div>\n",
       "<style scoped>\n",
       "    .dataframe tbody tr th:only-of-type {\n",
       "        vertical-align: middle;\n",
       "    }\n",
       "\n",
       "    .dataframe tbody tr th {\n",
       "        vertical-align: top;\n",
       "    }\n",
       "\n",
       "    .dataframe thead th {\n",
       "        text-align: right;\n",
       "    }\n",
       "</style>\n",
       "<table border=\"1\" class=\"dataframe\">\n",
       "  <thead>\n",
       "    <tr style=\"text-align: right;\">\n",
       "      <th></th>\n",
       "      <th>Unnamed: 0</th>\n",
       "      <th>price</th>\n",
       "      <th>brand</th>\n",
       "      <th>model</th>\n",
       "      <th>year</th>\n",
       "      <th>title_status</th>\n",
       "      <th>mileage</th>\n",
       "      <th>color</th>\n",
       "      <th>vin</th>\n",
       "      <th>lot</th>\n",
       "      <th>state</th>\n",
       "      <th>country</th>\n",
       "      <th>condition</th>\n",
       "    </tr>\n",
       "  </thead>\n",
       "  <tbody>\n",
       "    <tr>\n",
       "      <th>2494</th>\n",
       "      <td>2494</td>\n",
       "      <td>7800</td>\n",
       "      <td>nissan</td>\n",
       "      <td>versa</td>\n",
       "      <td>2019</td>\n",
       "      <td>clean vehicle</td>\n",
       "      <td>23609.0</td>\n",
       "      <td>red</td>\n",
       "      <td>3n1cn7ap9kl880319</td>\n",
       "      <td>167722715</td>\n",
       "      <td>california</td>\n",
       "      <td>usa</td>\n",
       "      <td>1 days left</td>\n",
       "    </tr>\n",
       "    <tr>\n",
       "      <th>2495</th>\n",
       "      <td>2495</td>\n",
       "      <td>9200</td>\n",
       "      <td>nissan</td>\n",
       "      <td>versa</td>\n",
       "      <td>2018</td>\n",
       "      <td>clean vehicle</td>\n",
       "      <td>34553.0</td>\n",
       "      <td>silver</td>\n",
       "      <td>3n1cn7ap5jl884088</td>\n",
       "      <td>167762225</td>\n",
       "      <td>florida</td>\n",
       "      <td>usa</td>\n",
       "      <td>21 hours left</td>\n",
       "    </tr>\n",
       "    <tr>\n",
       "      <th>2496</th>\n",
       "      <td>2496</td>\n",
       "      <td>9200</td>\n",
       "      <td>nissan</td>\n",
       "      <td>versa</td>\n",
       "      <td>2018</td>\n",
       "      <td>clean vehicle</td>\n",
       "      <td>31594.0</td>\n",
       "      <td>silver</td>\n",
       "      <td>3n1cn7ap9jl884191</td>\n",
       "      <td>167762226</td>\n",
       "      <td>florida</td>\n",
       "      <td>usa</td>\n",
       "      <td>21 hours left</td>\n",
       "    </tr>\n",
       "    <tr>\n",
       "      <th>2497</th>\n",
       "      <td>2497</td>\n",
       "      <td>9200</td>\n",
       "      <td>nissan</td>\n",
       "      <td>versa</td>\n",
       "      <td>2018</td>\n",
       "      <td>clean vehicle</td>\n",
       "      <td>32557.0</td>\n",
       "      <td>black</td>\n",
       "      <td>3n1cn7ap3jl883263</td>\n",
       "      <td>167762227</td>\n",
       "      <td>florida</td>\n",
       "      <td>usa</td>\n",
       "      <td>2 days left</td>\n",
       "    </tr>\n",
       "    <tr>\n",
       "      <th>2498</th>\n",
       "      <td>2498</td>\n",
       "      <td>9200</td>\n",
       "      <td>nissan</td>\n",
       "      <td>versa</td>\n",
       "      <td>2018</td>\n",
       "      <td>clean vehicle</td>\n",
       "      <td>31371.0</td>\n",
       "      <td>silver</td>\n",
       "      <td>3n1cn7ap4jl884311</td>\n",
       "      <td>167762228</td>\n",
       "      <td>florida</td>\n",
       "      <td>usa</td>\n",
       "      <td>21 hours left</td>\n",
       "    </tr>\n",
       "  </tbody>\n",
       "</table>\n",
       "</div>"
      ],
      "text/plain": [
       "      Unnamed: 0  price   brand  model  year   title_status  mileage   color  \\\n",
       "2494        2494   7800  nissan  versa  2019  clean vehicle  23609.0     red   \n",
       "2495        2495   9200  nissan  versa  2018  clean vehicle  34553.0  silver   \n",
       "2496        2496   9200  nissan  versa  2018  clean vehicle  31594.0  silver   \n",
       "2497        2497   9200  nissan  versa  2018  clean vehicle  32557.0   black   \n",
       "2498        2498   9200  nissan  versa  2018  clean vehicle  31371.0  silver   \n",
       "\n",
       "                      vin        lot       state country      condition  \n",
       "2494    3n1cn7ap9kl880319  167722715  california     usa    1 days left  \n",
       "2495    3n1cn7ap5jl884088  167762225     florida     usa  21 hours left  \n",
       "2496    3n1cn7ap9jl884191  167762226     florida     usa  21 hours left  \n",
       "2497    3n1cn7ap3jl883263  167762227     florida     usa    2 days left  \n",
       "2498    3n1cn7ap4jl884311  167762228     florida     usa  21 hours left  "
      ]
     },
     "execution_count": 4,
     "metadata": {},
     "output_type": "execute_result"
    }
   ],
   "source": [
    "df.tail()"
   ]
  },
  {
   "cell_type": "raw",
   "id": "9743574f",
   "metadata": {
    "papermill": {
     "duration": 0.019802,
     "end_time": "2022-05-14T03:59:57.809179",
     "exception": false,
     "start_time": "2022-05-14T03:59:57.789377",
     "status": "completed"
    },
    "tags": []
   },
   "source": [
    "df.columns"
   ]
  },
  {
   "cell_type": "code",
   "execution_count": 5,
   "id": "b542ae9d",
   "metadata": {
    "execution": {
     "iopub.execute_input": "2022-05-14T03:59:57.852478Z",
     "iopub.status.busy": "2022-05-14T03:59:57.851919Z",
     "iopub.status.idle": "2022-05-14T03:59:57.878994Z",
     "shell.execute_reply": "2022-05-14T03:59:57.878395Z"
    },
    "papermill": {
     "duration": 0.051978,
     "end_time": "2022-05-14T03:59:57.882215",
     "exception": false,
     "start_time": "2022-05-14T03:59:57.830237",
     "status": "completed"
    },
    "tags": []
   },
   "outputs": [
    {
     "name": "stdout",
     "output_type": "stream",
     "text": [
      "<class 'pandas.core.frame.DataFrame'>\n",
      "RangeIndex: 2499 entries, 0 to 2498\n",
      "Data columns (total 13 columns):\n",
      " #   Column        Non-Null Count  Dtype  \n",
      "---  ------        --------------  -----  \n",
      " 0   Unnamed: 0    2499 non-null   int64  \n",
      " 1   price         2499 non-null   int64  \n",
      " 2   brand         2499 non-null   object \n",
      " 3   model         2499 non-null   object \n",
      " 4   year          2499 non-null   int64  \n",
      " 5   title_status  2499 non-null   object \n",
      " 6   mileage       2499 non-null   float64\n",
      " 7   color         2499 non-null   object \n",
      " 8   vin           2499 non-null   object \n",
      " 9   lot           2499 non-null   int64  \n",
      " 10  state         2499 non-null   object \n",
      " 11  country       2499 non-null   object \n",
      " 12  condition     2499 non-null   object \n",
      "dtypes: float64(1), int64(4), object(8)\n",
      "memory usage: 253.9+ KB\n"
     ]
    }
   ],
   "source": [
    "df.info()"
   ]
  },
  {
   "cell_type": "code",
   "execution_count": 6,
   "id": "17b704a4",
   "metadata": {
    "execution": {
     "iopub.execute_input": "2022-05-14T03:59:57.925402Z",
     "iopub.status.busy": "2022-05-14T03:59:57.924887Z",
     "iopub.status.idle": "2022-05-14T03:59:57.953568Z",
     "shell.execute_reply": "2022-05-14T03:59:57.952952Z"
    },
    "papermill": {
     "duration": 0.052269,
     "end_time": "2022-05-14T03:59:57.955571",
     "exception": false,
     "start_time": "2022-05-14T03:59:57.903302",
     "status": "completed"
    },
    "tags": []
   },
   "outputs": [
    {
     "data": {
      "text/html": [
       "<div>\n",
       "<style scoped>\n",
       "    .dataframe tbody tr th:only-of-type {\n",
       "        vertical-align: middle;\n",
       "    }\n",
       "\n",
       "    .dataframe tbody tr th {\n",
       "        vertical-align: top;\n",
       "    }\n",
       "\n",
       "    .dataframe thead th {\n",
       "        text-align: right;\n",
       "    }\n",
       "</style>\n",
       "<table border=\"1\" class=\"dataframe\">\n",
       "  <thead>\n",
       "    <tr style=\"text-align: right;\">\n",
       "      <th></th>\n",
       "      <th>Unnamed: 0</th>\n",
       "      <th>price</th>\n",
       "      <th>year</th>\n",
       "      <th>mileage</th>\n",
       "      <th>lot</th>\n",
       "    </tr>\n",
       "  </thead>\n",
       "  <tbody>\n",
       "    <tr>\n",
       "      <th>count</th>\n",
       "      <td>2499.000000</td>\n",
       "      <td>2499.000000</td>\n",
       "      <td>2499.000000</td>\n",
       "      <td>2.499000e+03</td>\n",
       "      <td>2.499000e+03</td>\n",
       "    </tr>\n",
       "    <tr>\n",
       "      <th>mean</th>\n",
       "      <td>1249.000000</td>\n",
       "      <td>18767.671469</td>\n",
       "      <td>2016.714286</td>\n",
       "      <td>5.229869e+04</td>\n",
       "      <td>1.676914e+08</td>\n",
       "    </tr>\n",
       "    <tr>\n",
       "      <th>std</th>\n",
       "      <td>721.543484</td>\n",
       "      <td>12116.094936</td>\n",
       "      <td>3.442656</td>\n",
       "      <td>5.970552e+04</td>\n",
       "      <td>2.038772e+05</td>\n",
       "    </tr>\n",
       "    <tr>\n",
       "      <th>min</th>\n",
       "      <td>0.000000</td>\n",
       "      <td>0.000000</td>\n",
       "      <td>1973.000000</td>\n",
       "      <td>0.000000e+00</td>\n",
       "      <td>1.593488e+08</td>\n",
       "    </tr>\n",
       "    <tr>\n",
       "      <th>25%</th>\n",
       "      <td>624.500000</td>\n",
       "      <td>10200.000000</td>\n",
       "      <td>2016.000000</td>\n",
       "      <td>2.146650e+04</td>\n",
       "      <td>1.676253e+08</td>\n",
       "    </tr>\n",
       "    <tr>\n",
       "      <th>50%</th>\n",
       "      <td>1249.000000</td>\n",
       "      <td>16900.000000</td>\n",
       "      <td>2018.000000</td>\n",
       "      <td>3.536500e+04</td>\n",
       "      <td>1.677451e+08</td>\n",
       "    </tr>\n",
       "    <tr>\n",
       "      <th>75%</th>\n",
       "      <td>1873.500000</td>\n",
       "      <td>25555.500000</td>\n",
       "      <td>2019.000000</td>\n",
       "      <td>6.347250e+04</td>\n",
       "      <td>1.677798e+08</td>\n",
       "    </tr>\n",
       "    <tr>\n",
       "      <th>max</th>\n",
       "      <td>2498.000000</td>\n",
       "      <td>84900.000000</td>\n",
       "      <td>2020.000000</td>\n",
       "      <td>1.017936e+06</td>\n",
       "      <td>1.678055e+08</td>\n",
       "    </tr>\n",
       "  </tbody>\n",
       "</table>\n",
       "</div>"
      ],
      "text/plain": [
       "        Unnamed: 0         price         year       mileage           lot\n",
       "count  2499.000000   2499.000000  2499.000000  2.499000e+03  2.499000e+03\n",
       "mean   1249.000000  18767.671469  2016.714286  5.229869e+04  1.676914e+08\n",
       "std     721.543484  12116.094936     3.442656  5.970552e+04  2.038772e+05\n",
       "min       0.000000      0.000000  1973.000000  0.000000e+00  1.593488e+08\n",
       "25%     624.500000  10200.000000  2016.000000  2.146650e+04  1.676253e+08\n",
       "50%    1249.000000  16900.000000  2018.000000  3.536500e+04  1.677451e+08\n",
       "75%    1873.500000  25555.500000  2019.000000  6.347250e+04  1.677798e+08\n",
       "max    2498.000000  84900.000000  2020.000000  1.017936e+06  1.678055e+08"
      ]
     },
     "execution_count": 6,
     "metadata": {},
     "output_type": "execute_result"
    }
   ],
   "source": [
    "df.describe()"
   ]
  },
  {
   "cell_type": "code",
   "execution_count": 7,
   "id": "38bbc5c2",
   "metadata": {
    "execution": {
     "iopub.execute_input": "2022-05-14T03:59:57.999793Z",
     "iopub.status.busy": "2022-05-14T03:59:57.999448Z",
     "iopub.status.idle": "2022-05-14T03:59:58.006579Z",
     "shell.execute_reply": "2022-05-14T03:59:58.005838Z"
    },
    "papermill": {
     "duration": 0.031832,
     "end_time": "2022-05-14T03:59:58.008332",
     "exception": false,
     "start_time": "2022-05-14T03:59:57.976500",
     "status": "completed"
    },
    "tags": []
   },
   "outputs": [
    {
     "data": {
      "text/plain": [
       "0        6300\n",
       "1        2899\n",
       "2        5350\n",
       "3       25000\n",
       "4       27700\n",
       "        ...  \n",
       "2494     7800\n",
       "2495     9200\n",
       "2496     9200\n",
       "2497     9200\n",
       "2498     9200\n",
       "Name: price, Length: 2499, dtype: int64"
      ]
     },
     "execution_count": 7,
     "metadata": {},
     "output_type": "execute_result"
    }
   ],
   "source": [
    "df.price"
   ]
  },
  {
   "cell_type": "code",
   "execution_count": 8,
   "id": "7f316daa",
   "metadata": {
    "execution": {
     "iopub.execute_input": "2022-05-14T03:59:58.053379Z",
     "iopub.status.busy": "2022-05-14T03:59:58.052706Z",
     "iopub.status.idle": "2022-05-14T03:59:58.058613Z",
     "shell.execute_reply": "2022-05-14T03:59:58.057780Z"
    },
    "papermill": {
     "duration": 0.030925,
     "end_time": "2022-05-14T03:59:58.060536",
     "exception": false,
     "start_time": "2022-05-14T03:59:58.029611",
     "status": "completed"
    },
    "tags": []
   },
   "outputs": [
    {
     "data": {
      "text/plain": [
       "84900"
      ]
     },
     "execution_count": 8,
     "metadata": {},
     "output_type": "execute_result"
    }
   ],
   "source": [
    "df.price.max()"
   ]
  },
  {
   "cell_type": "code",
   "execution_count": 9,
   "id": "e82f489e",
   "metadata": {
    "execution": {
     "iopub.execute_input": "2022-05-14T03:59:58.106421Z",
     "iopub.status.busy": "2022-05-14T03:59:58.105856Z",
     "iopub.status.idle": "2022-05-14T03:59:58.111331Z",
     "shell.execute_reply": "2022-05-14T03:59:58.110705Z"
    },
    "papermill": {
     "duration": 0.030632,
     "end_time": "2022-05-14T03:59:58.113256",
     "exception": false,
     "start_time": "2022-05-14T03:59:58.082624",
     "status": "completed"
    },
    "tags": []
   },
   "outputs": [
    {
     "data": {
      "text/plain": [
       "0"
      ]
     },
     "execution_count": 9,
     "metadata": {},
     "output_type": "execute_result"
    }
   ],
   "source": [
    "df.price.min()"
   ]
  },
  {
   "cell_type": "code",
   "execution_count": 10,
   "id": "6dff2191",
   "metadata": {
    "execution": {
     "iopub.execute_input": "2022-05-14T03:59:58.162184Z",
     "iopub.status.busy": "2022-05-14T03:59:58.161860Z",
     "iopub.status.idle": "2022-05-14T03:59:58.169418Z",
     "shell.execute_reply": "2022-05-14T03:59:58.168797Z"
    },
    "papermill": {
     "duration": 0.035065,
     "end_time": "2022-05-14T03:59:58.171300",
     "exception": false,
     "start_time": "2022-05-14T03:59:58.136235",
     "status": "completed"
    },
    "tags": []
   },
   "outputs": [
    {
     "data": {
      "text/plain": [
       "0        43\n",
       "16500    26\n",
       "13900    21\n",
       "15500    19\n",
       "15000    19\n",
       "         ..\n",
       "12560     1\n",
       "11760     1\n",
       "7340      1\n",
       "6530      1\n",
       "30100     1\n",
       "Name: price, Length: 790, dtype: int64"
      ]
     },
     "execution_count": 10,
     "metadata": {},
     "output_type": "execute_result"
    }
   ],
   "source": [
    "df.price.value_counts()"
   ]
  },
  {
   "cell_type": "code",
   "execution_count": 11,
   "id": "73dadbe9",
   "metadata": {
    "execution": {
     "iopub.execute_input": "2022-05-14T03:59:58.218646Z",
     "iopub.status.busy": "2022-05-14T03:59:58.218078Z",
     "iopub.status.idle": "2022-05-14T03:59:58.224969Z",
     "shell.execute_reply": "2022-05-14T03:59:58.224234Z"
    },
    "papermill": {
     "duration": 0.032736,
     "end_time": "2022-05-14T03:59:58.226858",
     "exception": false,
     "start_time": "2022-05-14T03:59:58.194122",
     "status": "completed"
    },
    "tags": []
   },
   "outputs": [
    {
     "data": {
      "text/plain": [
       "0        43\n",
       "16500    26\n",
       "13900    21\n",
       "15500    19\n",
       "15000    19\n",
       "25000    18\n",
       "25       18\n",
       "8000     18\n",
       "22500    18\n",
       "18500    17\n",
       "Name: price, dtype: int64"
      ]
     },
     "execution_count": 11,
     "metadata": {},
     "output_type": "execute_result"
    }
   ],
   "source": [
    "df.price.value_counts().head(10)"
   ]
  },
  {
   "cell_type": "code",
   "execution_count": 12,
   "id": "95fb082c",
   "metadata": {
    "execution": {
     "iopub.execute_input": "2022-05-14T03:59:58.276308Z",
     "iopub.status.busy": "2022-05-14T03:59:58.275773Z",
     "iopub.status.idle": "2022-05-14T03:59:58.282170Z",
     "shell.execute_reply": "2022-05-14T03:59:58.281651Z"
    },
    "papermill": {
     "duration": 0.033683,
     "end_time": "2022-05-14T03:59:58.284181",
     "exception": false,
     "start_time": "2022-05-14T03:59:58.250498",
     "status": "completed"
    },
    "tags": []
   },
   "outputs": [
    {
     "data": {
      "text/plain": [
       "0          toyota\n",
       "1            ford\n",
       "2           dodge\n",
       "3            ford\n",
       "4       chevrolet\n",
       "          ...    \n",
       "2494       nissan\n",
       "2495       nissan\n",
       "2496       nissan\n",
       "2497       nissan\n",
       "2498       nissan\n",
       "Name: brand, Length: 2499, dtype: object"
      ]
     },
     "execution_count": 12,
     "metadata": {},
     "output_type": "execute_result"
    }
   ],
   "source": [
    "df.brand"
   ]
  },
  {
   "cell_type": "code",
   "execution_count": 13,
   "id": "228492f8",
   "metadata": {
    "execution": {
     "iopub.execute_input": "2022-05-14T03:59:58.334250Z",
     "iopub.status.busy": "2022-05-14T03:59:58.333693Z",
     "iopub.status.idle": "2022-05-14T03:59:58.358129Z",
     "shell.execute_reply": "2022-05-14T03:59:58.357499Z"
    },
    "papermill": {
     "duration": 0.051986,
     "end_time": "2022-05-14T03:59:58.360168",
     "exception": false,
     "start_time": "2022-05-14T03:59:58.308182",
     "status": "completed"
    },
    "tags": []
   },
   "outputs": [
    {
     "data": {
      "text/html": [
       "<div>\n",
       "<style scoped>\n",
       "    .dataframe tbody tr th:only-of-type {\n",
       "        vertical-align: middle;\n",
       "    }\n",
       "\n",
       "    .dataframe tbody tr th {\n",
       "        vertical-align: top;\n",
       "    }\n",
       "\n",
       "    .dataframe thead th {\n",
       "        text-align: right;\n",
       "    }\n",
       "</style>\n",
       "<table border=\"1\" class=\"dataframe\">\n",
       "  <thead>\n",
       "    <tr style=\"text-align: right;\">\n",
       "      <th></th>\n",
       "      <th>Unnamed: 0</th>\n",
       "      <th>price</th>\n",
       "      <th>brand</th>\n",
       "      <th>model</th>\n",
       "      <th>year</th>\n",
       "      <th>title_status</th>\n",
       "      <th>mileage</th>\n",
       "      <th>color</th>\n",
       "      <th>vin</th>\n",
       "      <th>lot</th>\n",
       "      <th>state</th>\n",
       "      <th>country</th>\n",
       "      <th>condition</th>\n",
       "    </tr>\n",
       "  </thead>\n",
       "  <tbody>\n",
       "    <tr>\n",
       "      <th>1</th>\n",
       "      <td>1</td>\n",
       "      <td>2899</td>\n",
       "      <td>ford</td>\n",
       "      <td>se</td>\n",
       "      <td>2011</td>\n",
       "      <td>clean vehicle</td>\n",
       "      <td>190552.0</td>\n",
       "      <td>silver</td>\n",
       "      <td>2fmdk3gc4bbb02217</td>\n",
       "      <td>166951262</td>\n",
       "      <td>tennessee</td>\n",
       "      <td>usa</td>\n",
       "      <td>6 days left</td>\n",
       "    </tr>\n",
       "    <tr>\n",
       "      <th>3</th>\n",
       "      <td>3</td>\n",
       "      <td>25000</td>\n",
       "      <td>ford</td>\n",
       "      <td>door</td>\n",
       "      <td>2014</td>\n",
       "      <td>clean vehicle</td>\n",
       "      <td>64146.0</td>\n",
       "      <td>blue</td>\n",
       "      <td>1ftfw1et4efc23745</td>\n",
       "      <td>167753855</td>\n",
       "      <td>virginia</td>\n",
       "      <td>usa</td>\n",
       "      <td>22 hours left</td>\n",
       "    </tr>\n",
       "    <tr>\n",
       "      <th>9</th>\n",
       "      <td>9</td>\n",
       "      <td>5250</td>\n",
       "      <td>ford</td>\n",
       "      <td>mpv</td>\n",
       "      <td>2017</td>\n",
       "      <td>clean vehicle</td>\n",
       "      <td>63418.0</td>\n",
       "      <td>black</td>\n",
       "      <td>2fmpk3j92hbc12542</td>\n",
       "      <td>167656121</td>\n",
       "      <td>texas</td>\n",
       "      <td>usa</td>\n",
       "      <td>2 days left</td>\n",
       "    </tr>\n",
       "    <tr>\n",
       "      <th>14</th>\n",
       "      <td>14</td>\n",
       "      <td>20700</td>\n",
       "      <td>ford</td>\n",
       "      <td>door</td>\n",
       "      <td>2013</td>\n",
       "      <td>clean vehicle</td>\n",
       "      <td>100757.0</td>\n",
       "      <td>black</td>\n",
       "      <td>1ftfw1et7dfa47790</td>\n",
       "      <td>167753916</td>\n",
       "      <td>virginia</td>\n",
       "      <td>usa</td>\n",
       "      <td>22 hours left</td>\n",
       "    </tr>\n",
       "    <tr>\n",
       "      <th>18</th>\n",
       "      <td>18</td>\n",
       "      <td>5210</td>\n",
       "      <td>ford</td>\n",
       "      <td>mpv</td>\n",
       "      <td>2017</td>\n",
       "      <td>clean vehicle</td>\n",
       "      <td>35714.0</td>\n",
       "      <td>white</td>\n",
       "      <td>2fmpk3j95hbb73607</td>\n",
       "      <td>167656124</td>\n",
       "      <td>texas</td>\n",
       "      <td>usa</td>\n",
       "      <td>2 days left</td>\n",
       "    </tr>\n",
       "    <tr>\n",
       "      <th>...</th>\n",
       "      <td>...</td>\n",
       "      <td>...</td>\n",
       "      <td>...</td>\n",
       "      <td>...</td>\n",
       "      <td>...</td>\n",
       "      <td>...</td>\n",
       "      <td>...</td>\n",
       "      <td>...</td>\n",
       "      <td>...</td>\n",
       "      <td>...</td>\n",
       "      <td>...</td>\n",
       "      <td>...</td>\n",
       "      <td>...</td>\n",
       "    </tr>\n",
       "    <tr>\n",
       "      <th>2199</th>\n",
       "      <td>2199</td>\n",
       "      <td>13800</td>\n",
       "      <td>ford</td>\n",
       "      <td>fusion</td>\n",
       "      <td>2019</td>\n",
       "      <td>clean vehicle</td>\n",
       "      <td>29345.0</td>\n",
       "      <td>white</td>\n",
       "      <td>3fa6p0lu1kr222799</td>\n",
       "      <td>167802379</td>\n",
       "      <td>north carolina</td>\n",
       "      <td>usa</td>\n",
       "      <td>2 days left</td>\n",
       "    </tr>\n",
       "    <tr>\n",
       "      <th>2200</th>\n",
       "      <td>2200</td>\n",
       "      <td>56000</td>\n",
       "      <td>ford</td>\n",
       "      <td>srw</td>\n",
       "      <td>2018</td>\n",
       "      <td>clean vehicle</td>\n",
       "      <td>25371.0</td>\n",
       "      <td>black</td>\n",
       "      <td>1ft7w2bt4jec50359</td>\n",
       "      <td>167749689</td>\n",
       "      <td>pennsylvania</td>\n",
       "      <td>usa</td>\n",
       "      <td>3 days left</td>\n",
       "    </tr>\n",
       "    <tr>\n",
       "      <th>2201</th>\n",
       "      <td>2201</td>\n",
       "      <td>13800</td>\n",
       "      <td>ford</td>\n",
       "      <td>fusion</td>\n",
       "      <td>2019</td>\n",
       "      <td>clean vehicle</td>\n",
       "      <td>30054.0</td>\n",
       "      <td>silver</td>\n",
       "      <td>3fa6p0lu3kr210749</td>\n",
       "      <td>167802380</td>\n",
       "      <td>north carolina</td>\n",
       "      <td>usa</td>\n",
       "      <td>2 days left</td>\n",
       "    </tr>\n",
       "    <tr>\n",
       "      <th>2202</th>\n",
       "      <td>2202</td>\n",
       "      <td>45800</td>\n",
       "      <td>ford</td>\n",
       "      <td>srw</td>\n",
       "      <td>2018</td>\n",
       "      <td>clean vehicle</td>\n",
       "      <td>11173.0</td>\n",
       "      <td>white</td>\n",
       "      <td>1ft7w2bt3jeb02932</td>\n",
       "      <td>167749690</td>\n",
       "      <td>pennsylvania</td>\n",
       "      <td>usa</td>\n",
       "      <td>2 days left</td>\n",
       "    </tr>\n",
       "    <tr>\n",
       "      <th>2203</th>\n",
       "      <td>2203</td>\n",
       "      <td>13800</td>\n",
       "      <td>ford</td>\n",
       "      <td>fusion</td>\n",
       "      <td>2019</td>\n",
       "      <td>clean vehicle</td>\n",
       "      <td>30902.0</td>\n",
       "      <td>no_color</td>\n",
       "      <td>3fa6p0lu8kr225585</td>\n",
       "      <td>167802381</td>\n",
       "      <td>north carolina</td>\n",
       "      <td>usa</td>\n",
       "      <td>2 days left</td>\n",
       "    </tr>\n",
       "  </tbody>\n",
       "</table>\n",
       "<p>1235 rows × 13 columns</p>\n",
       "</div>"
      ],
      "text/plain": [
       "      Unnamed: 0  price brand   model  year   title_status   mileage  \\\n",
       "1              1   2899  ford      se  2011  clean vehicle  190552.0   \n",
       "3              3  25000  ford    door  2014  clean vehicle   64146.0   \n",
       "9              9   5250  ford     mpv  2017  clean vehicle   63418.0   \n",
       "14            14  20700  ford    door  2013  clean vehicle  100757.0   \n",
       "18            18   5210  ford     mpv  2017  clean vehicle   35714.0   \n",
       "...          ...    ...   ...     ...   ...            ...       ...   \n",
       "2199        2199  13800  ford  fusion  2019  clean vehicle   29345.0   \n",
       "2200        2200  56000  ford     srw  2018  clean vehicle   25371.0   \n",
       "2201        2201  13800  ford  fusion  2019  clean vehicle   30054.0   \n",
       "2202        2202  45800  ford     srw  2018  clean vehicle   11173.0   \n",
       "2203        2203  13800  ford  fusion  2019  clean vehicle   30902.0   \n",
       "\n",
       "         color                  vin        lot           state country  \\\n",
       "1       silver    2fmdk3gc4bbb02217  166951262       tennessee     usa   \n",
       "3         blue    1ftfw1et4efc23745  167753855        virginia     usa   \n",
       "9        black    2fmpk3j92hbc12542  167656121           texas     usa   \n",
       "14       black    1ftfw1et7dfa47790  167753916        virginia     usa   \n",
       "18       white    2fmpk3j95hbb73607  167656124           texas     usa   \n",
       "...        ...                  ...        ...             ...     ...   \n",
       "2199     white    3fa6p0lu1kr222799  167802379  north carolina     usa   \n",
       "2200     black    1ft7w2bt4jec50359  167749689    pennsylvania     usa   \n",
       "2201    silver    3fa6p0lu3kr210749  167802380  north carolina     usa   \n",
       "2202     white    1ft7w2bt3jeb02932  167749690    pennsylvania     usa   \n",
       "2203  no_color    3fa6p0lu8kr225585  167802381  north carolina     usa   \n",
       "\n",
       "          condition  \n",
       "1       6 days left  \n",
       "3     22 hours left  \n",
       "9       2 days left  \n",
       "14    22 hours left  \n",
       "18      2 days left  \n",
       "...             ...  \n",
       "2199    2 days left  \n",
       "2200    3 days left  \n",
       "2201    2 days left  \n",
       "2202    2 days left  \n",
       "2203    2 days left  \n",
       "\n",
       "[1235 rows x 13 columns]"
      ]
     },
     "execution_count": 13,
     "metadata": {},
     "output_type": "execute_result"
    }
   ],
   "source": [
    "df[df['brand']=='ford']"
   ]
  },
  {
   "cell_type": "code",
   "execution_count": 14,
   "id": "e9e529f0",
   "metadata": {
    "execution": {
     "iopub.execute_input": "2022-05-14T03:59:58.411668Z",
     "iopub.status.busy": "2022-05-14T03:59:58.411138Z",
     "iopub.status.idle": "2022-05-14T03:59:58.418205Z",
     "shell.execute_reply": "2022-05-14T03:59:58.417667Z"
    },
    "papermill": {
     "duration": 0.035611,
     "end_time": "2022-05-14T03:59:58.420183",
     "exception": false,
     "start_time": "2022-05-14T03:59:58.384572",
     "status": "completed"
    },
    "tags": []
   },
   "outputs": [
    {
     "data": {
      "text/plain": [
       "74000"
      ]
     },
     "execution_count": 14,
     "metadata": {},
     "output_type": "execute_result"
    }
   ],
   "source": [
    "df[df['brand']=='ford'].price.max()"
   ]
  },
  {
   "cell_type": "code",
   "execution_count": 15,
   "id": "acec3289",
   "metadata": {
    "execution": {
     "iopub.execute_input": "2022-05-14T03:59:58.471303Z",
     "iopub.status.busy": "2022-05-14T03:59:58.470799Z",
     "iopub.status.idle": "2022-05-14T03:59:58.478975Z",
     "shell.execute_reply": "2022-05-14T03:59:58.478026Z"
    },
    "papermill": {
     "duration": 0.035892,
     "end_time": "2022-05-14T03:59:58.480791",
     "exception": false,
     "start_time": "2022-05-14T03:59:58.444899",
     "status": "completed"
    },
    "tags": []
   },
   "outputs": [
    {
     "data": {
      "text/plain": [
       "1           se\n",
       "3         door\n",
       "9          mpv\n",
       "14        door\n",
       "18         mpv\n",
       "         ...  \n",
       "2199    fusion\n",
       "2200       srw\n",
       "2201    fusion\n",
       "2202       srw\n",
       "2203    fusion\n",
       "Name: model, Length: 1235, dtype: object"
      ]
     },
     "execution_count": 15,
     "metadata": {},
     "output_type": "execute_result"
    }
   ],
   "source": [
    "df[df['brand']=='ford'].model"
   ]
  },
  {
   "cell_type": "code",
   "execution_count": 16,
   "id": "15940a85",
   "metadata": {
    "execution": {
     "iopub.execute_input": "2022-05-14T03:59:58.534172Z",
     "iopub.status.busy": "2022-05-14T03:59:58.533646Z",
     "iopub.status.idle": "2022-05-14T03:59:58.542868Z",
     "shell.execute_reply": "2022-05-14T03:59:58.542161Z"
    },
    "papermill": {
     "duration": 0.039064,
     "end_time": "2022-05-14T03:59:58.544852",
     "exception": false,
     "start_time": "2022-05-14T03:59:58.505788",
     "status": "completed"
    },
    "tags": []
   },
   "outputs": [
    {
     "data": {
      "text/plain": [
       "door           363\n",
       "f-150          219\n",
       "doors           97\n",
       "fusion          65\n",
       "transit         41\n",
       "max             41\n",
       "escape          39\n",
       "explorer        39\n",
       "srw             38\n",
       "edge            34\n",
       "flex            33\n",
       "mustang         29\n",
       "wagon           28\n",
       "expedition      28\n",
       "mpv             22\n",
       "fiesta          14\n",
       "van             12\n",
       "taurus          10\n",
       "cutaway         10\n",
       "drw             10\n",
       "focus            9\n",
       "ecosport         7\n",
       "pickup           6\n",
       "ranger           6\n",
       "cab              5\n",
       "hybrid           5\n",
       "chassis          4\n",
       "f-650            3\n",
       "el               3\n",
       "pk               3\n",
       "bus              2\n",
       "d                2\n",
       "cargo            1\n",
       "energi           1\n",
       "f-750            1\n",
       "dr               1\n",
       "convertible      1\n",
       "suv              1\n",
       "connect          1\n",
       "se               1\n",
       "Name: model, dtype: int64"
      ]
     },
     "execution_count": 16,
     "metadata": {},
     "output_type": "execute_result"
    }
   ],
   "source": [
    "df[df['brand']=='ford'].model.value_counts()"
   ]
  },
  {
   "cell_type": "code",
   "execution_count": null,
   "id": "f1d20332",
   "metadata": {
    "papermill": {
     "duration": 0.02536,
     "end_time": "2022-05-14T03:59:58.595921",
     "exception": false,
     "start_time": "2022-05-14T03:59:58.570561",
     "status": "completed"
    },
    "tags": []
   },
   "outputs": [],
   "source": []
  }
 ],
 "metadata": {
  "kernelspec": {
   "display_name": "Python 3",
   "language": "python",
   "name": "python3"
  },
  "language_info": {
   "codemirror_mode": {
    "name": "ipython",
    "version": 3
   },
   "file_extension": ".py",
   "mimetype": "text/x-python",
   "name": "python",
   "nbconvert_exporter": "python",
   "pygments_lexer": "ipython3",
   "version": "3.7.12"
  },
  "papermill": {
   "default_parameters": {},
   "duration": 12.185263,
   "end_time": "2022-05-14T03:59:59.343335",
   "environment_variables": {},
   "exception": null,
   "input_path": "__notebook__.ipynb",
   "output_path": "__notebook__.ipynb",
   "parameters": {},
   "start_time": "2022-05-14T03:59:47.158072",
   "version": "2.3.4"
  }
 },
 "nbformat": 4,
 "nbformat_minor": 5
}
